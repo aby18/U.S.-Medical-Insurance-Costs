{
 "cells": [
  {
   "cell_type": "markdown",
   "metadata": {},
   "source": [
    "# U.S. Medical Insurance Costs"
   ]
  },
  {
   "cell_type": "markdown",
   "metadata": {},
   "source": [
    "### Project goals:\n",
    "1. Determine the number of males and females in the dataset to identify if there is any gender bias in the data\n",
    "2. Calculate average insurance cost by age groups\n",
    "3. Calculate average insurance cost by regions\n",
    "4. Calculate average insurance cost for individuals with and without children\n",
    "5. Calculate average insurance cost by smoker status\n",
    "6. Create a JSON file for the results"
   ]
  },
  {
   "cell_type": "code",
   "execution_count": 1,
   "metadata": {},
   "outputs": [],
   "source": [
    "import csv"
   ]
  },
  {
   "cell_type": "code",
   "execution_count": 9,
   "metadata": {},
   "outputs": [],
   "source": [
    "# Reading the insurance.csv file and storing the contents of each column in a list\n",
    "age = []\n",
    "sex = []\n",
    "bmi = []\n",
    "children = []\n",
    "smoker = []\n",
    "region = []\n",
    "charges = []\n",
    "\n",
    "with open(\"insurance.csv\") as file:\n",
    "    insurance_csv = csv.DictReader(file)\n",
    "    for line in insurance_csv:\n",
    "        age.append(line[\"age\"])\n",
    "        sex.append(line[\"sex\"])\n",
    "        bmi.append(line[\"bmi\"])\n",
    "        children.append(line[\"children\"])\n",
    "        smoker.append(line[\"smoker\"])\n",
    "        region.append(line[\"region\"])\n",
    "        charges.append(line[\"charges\"])"
   ]
  },
  {
   "cell_type": "markdown",
   "metadata": {},
   "source": [
    "1. Determine the number of males and females in the dataset to identify if there is any gender bias in the data"
   ]
  },
  {
   "cell_type": "code",
   "execution_count": 25,
   "metadata": {},
   "outputs": [
    {
     "name": "stdout",
     "output_type": "stream",
     "text": [
      "The number of males in the dataset is 676\n",
      "The number of females in the dataset is 662\n"
     ]
    }
   ],
   "source": [
    "# Iterating through the sex list to find the number of males and females\n",
    "no_of_males = 0\n",
    "no_of_females = 0\n",
    "\n",
    "for item in sex:\n",
    "    if item == \"female\":\n",
    "        no_of_females += 1\n",
    "    elif item == \"male\":\n",
    "        no_of_males += 1\n",
    "\n",
    "print(\"The number of males in the dataset is {}\".format(no_of_males))\n",
    "print(\"The number of females in the dataset is {}\".format(no_of_females))"
   ]
  },
  {
   "cell_type": "markdown",
   "metadata": {},
   "source": [
    "It can be observed that the number of males and females in the dataset is fairly equal. Therefore, the dataset does not appear to be biased."
   ]
  },
  {
   "cell_type": "markdown",
   "metadata": {},
   "source": [
    "2. Calculate average insurance cost by age groups"
   ]
  },
  {
   "cell_type": "code",
   "execution_count": 46,
   "metadata": {},
   "outputs": [
    {
     "name": "stdout",
     "output_type": "stream",
     "text": [
      "The minimum age in the dataset is 18\n",
      "The maximum age in the dataset is 64\n"
     ]
    }
   ],
   "source": [
    "# Finding the minimum and maximum ages in the dataset\n",
    "print(\"The minimum age in the dataset is\", min(age))\n",
    "print(\"The maximum age in the dataset is\", max(age))"
   ]
  },
  {
   "cell_type": "code",
   "execution_count": 71,
   "metadata": {},
   "outputs": [],
   "source": [
    "# Creating a function to divide the data into the following age groups: 18-25, 26-35, 36-45, 46-55, 56-65, and calculate the average insurance cost for each group\n",
    "def find_average_cost_by_age_group(age, charges):\n",
    "    age_groups = {\"18-25\": 0, \"26-35\":0, \"36-45\":0, \"46-55\":0, \"56-65\":0}\n",
    "    total_cost_by_age_group = {key: 0 for key in age_groups}\n",
    "    average_cost_by_age_group = {key: 0 for key in age_groups}\n",
    "    # Finding the total number of individuals and total insurance cost for each age group\n",
    "    for i in range(len(age)):\n",
    "        years = int(age[i])\n",
    "        cost = float(charges[i])\n",
    "        if years > 18 and years < 25:\n",
    "            key = \"18-25\"\n",
    "        elif years > 26 and years < 35:\n",
    "            key = \"26-35\"\n",
    "        elif years > 36 and years < 45:\n",
    "            key = \"36-45\"\n",
    "        elif years > 46 and years < 55:\n",
    "            key = \"46-55\"\n",
    "        else:\n",
    "            key = \"56-65\"\n",
    "        age_groups[key] += 1\n",
    "        total_cost_by_age_group[key] += cost\n",
    "    # Finding the average insurance cost for each age group\n",
    "    for key in total_cost_by_age_group:\n",
    "        average_cost_by_age_group[key] = round(total_cost_by_age_group[key] / age_groups[key], 3)\n",
    "    return average_cost_by_age_group\n",
    "\n",
    "average_cost_by_age_group = find_average_cost_by_age_group(age, charges)"
   ]
  },
  {
   "cell_type": "code",
   "execution_count": 73,
   "metadata": {},
   "outputs": [
    {
     "name": "stdout",
     "output_type": "stream",
     "text": [
      "{'18-25': 9646.907, '26-35': 10968.73, '36-45': 13462.345, '46-55': 16174.962, '56-65': 14421.443}\n"
     ]
    }
   ],
   "source": [
    "print(average_cost_by_age_group)"
   ]
  },
  {
   "cell_type": "markdown",
   "metadata": {},
   "source": [
    "3. Calculate average insurance cost by regions"
   ]
  },
  {
   "cell_type": "code",
   "execution_count": 62,
   "metadata": {},
   "outputs": [],
   "source": [
    "# Creating a function to find the average insurance cost by region\n",
    "def find_average_cost_by_region(region, charges):\n",
    "    no_by_region = {}\n",
    "    total_cost_by_region = {}\n",
    "    average_cost_by_region = {}\n",
    "    # Finding the total number of individuals and total cost for each region\n",
    "    for i in range(len(region)):\n",
    "        area = region[i]\n",
    "        if no_by_region.get(area) == None:\n",
    "            no_by_region[area] = 1\n",
    "            total_cost_by_region[area] = float(charges[i])\n",
    "        else:\n",
    "            no_by_region[area] += 1\n",
    "            total_cost_by_region[area] += float(charges[i])\n",
    "    # Finding the average cost for each region\n",
    "    for area in no_by_region:\n",
    "        average_cost_by_region[area] = round(total_cost_by_region[area] / no_by_region[area], 3)\n",
    "    return average_cost_by_region\n",
    "\n",
    "average_cost_by_region = find_average_cost_by_region(region, charges)"
   ]
  },
  {
   "cell_type": "code",
   "execution_count": 64,
   "metadata": {},
   "outputs": [
    {
     "name": "stdout",
     "output_type": "stream",
     "text": [
      "{'southwest': 12346.937, 'southeast': 14735.411, 'northwest': 12417.575, 'northeast': 13406.385}\n"
     ]
    }
   ],
   "source": [
    "print(average_cost_by_region)"
   ]
  },
  {
   "cell_type": "markdown",
   "metadata": {},
   "source": [
    "4. Calculate average insurance cost for individuals with and without children"
   ]
  },
  {
   "cell_type": "code",
   "execution_count": 85,
   "metadata": {},
   "outputs": [],
   "source": [
    "# Creating a function to find the average insurance cost for individuals with and without children\n",
    "def find_average_cost_with_and_without_children(children, charges):\n",
    "    with_or_without_children = {\"at least one child\": 0, \"no children\": 0}\n",
    "    total_cost_by_children = {\"at least one child\": 0, \"no children\": 0}\n",
    "    average_cost_with_and_without_children = {\"at least one child\": 0, \"no children\": 0}\n",
    "    # Finding the total number of individuals and the total cost for each category \n",
    "    for i in range(len(children)):\n",
    "        if int(children[i]) == 0:\n",
    "            key = \"no children\"\n",
    "        else:\n",
    "            key = \"at least one child\"\n",
    "        with_or_without_children[key] += 1\n",
    "        total_cost_by_children[key] += float(charges[i])\n",
    "    # Finding the average cost for each category\n",
    "    for key in with_or_without_children:\n",
    "        average_cost_with_and_without_children[key] = round(total_cost_by_children[key] / with_or_without_children[key], 3)\n",
    "    return average_cost_with_and_without_children\n",
    "\n",
    "average_cost_with_and_without_children = find_average_cost_with_and_without_children(children ,charges)"
   ]
  },
  {
   "cell_type": "code",
   "execution_count": 87,
   "metadata": {},
   "outputs": [
    {
     "name": "stdout",
     "output_type": "stream",
     "text": [
      "{'at least one child': 13949.941, 'no children': 12365.976}\n"
     ]
    }
   ],
   "source": [
    "print(average_cost_with_and_without_children)"
   ]
  },
  {
   "cell_type": "markdown",
   "metadata": {},
   "source": [
    "5. Calculate average insurance cost by smoker status"
   ]
  },
  {
   "cell_type": "code",
   "execution_count": 107,
   "metadata": {},
   "outputs": [],
   "source": [
    "# Creating a function to find the average insurance cost by smoker status\n",
    "def find_average_cost_by_smoker_status(smoker, charges):\n",
    "    smoker_status_count = {\"smoker\": 0, \"non smoker\": 0}\n",
    "    total_cost_by_smoker_status = {\"smoker\": 0, \"non smoker\": 0}\n",
    "    average_cost_by_smoker_status = {\"smoker\": 0, \"non smoker\": 0}\n",
    "    # Finding the total number of individuals and total cost by smoker status\n",
    "    for i in range(len(smoker)):\n",
    "        if smoker[i] == \"yes\":\n",
    "            key = \"smoker\"\n",
    "        else:\n",
    "            key = \"non smoker\"\n",
    "        smoker_status_count[key] += 1\n",
    "        total_cost_by_smoker_status[key] += float(charges[i])\n",
    "    # Finding the average cost by smoker status\n",
    "    for key in smoker_status_count:\n",
    "        average_cost_by_smoker_status[key] = round(total_cost_by_smoker_status[key] / smoker_status_count[key], 3)\n",
    "    return average_cost_by_smoker_status\n",
    "\n",
    "average_cost_by_smoker_status = find_average_cost_by_smoker_status(smoker, charges)"
   ]
  },
  {
   "cell_type": "code",
   "execution_count": 109,
   "metadata": {},
   "outputs": [
    {
     "name": "stdout",
     "output_type": "stream",
     "text": [
      "{'smoker': 32050.232, 'non smoker': 8434.268}\n"
     ]
    }
   ],
   "source": [
    "print(average_cost_by_smoker_status)"
   ]
  },
  {
   "cell_type": "markdown",
   "metadata": {},
   "source": [
    "6. Create a JSON file for the results"
   ]
  },
  {
   "cell_type": "code",
   "execution_count": 126,
   "metadata": {},
   "outputs": [],
   "source": [
    "# Importing the json library and writing the analysis results to a json file\n",
    "import json\n",
    "analysis_results = {\"Average insurance cost by age groups\": average_cost_by_age_group,\n",
    "                    \"Average insurance cost by regions\": average_cost_by_region, \n",
    "                    \"Average insurance cost for individuals with and without children\": average_cost_with_and_without_children, \n",
    "                    \"Average insurance cost by smoker status\": average_cost_by_smoker_status}\n",
    "with open(\"us_medical_insurance_costs.json\", \"w\") as file:\n",
    "    json.dump(analysis_results, file)"
   ]
  },
  {
   "cell_type": "code",
   "execution_count": 132,
   "metadata": {},
   "outputs": [
    {
     "name": "stdout",
     "output_type": "stream",
     "text": [
      "{'Average insurance cost by age groups': {'18-25': 9646.907, '26-35': 10968.73, '36-45': 13462.345, '46-55': 16174.962, '56-65': 14421.443}, 'Average insurance cost by regions': {'southwest': 12346.937, 'southeast': 14735.411, 'northwest': 12417.575, 'northeast': 13406.385}, 'Average insurance cost for individuals with and without children': {'at least one child': 13949.941, 'no children': 12365.976}, 'Average insurance cost by smoker status': {'smoker': 32050.232, 'non smoker': 8434.268}}\n"
     ]
    }
   ],
   "source": [
    "with open(\"us_medical_insurance_costs.json\") as file:\n",
    "    data = json.load(file)\n",
    "    print(data)"
   ]
  },
  {
   "cell_type": "code",
   "execution_count": null,
   "metadata": {},
   "outputs": [],
   "source": []
  }
 ],
 "metadata": {
  "kernelspec": {
   "display_name": "Python 3 (ipykernel)",
   "language": "python",
   "name": "python3"
  },
  "language_info": {
   "codemirror_mode": {
    "name": "ipython",
    "version": 3
   },
   "file_extension": ".py",
   "mimetype": "text/x-python",
   "name": "python",
   "nbconvert_exporter": "python",
   "pygments_lexer": "ipython3",
   "version": "3.12.4"
  }
 },
 "nbformat": 4,
 "nbformat_minor": 4
}
